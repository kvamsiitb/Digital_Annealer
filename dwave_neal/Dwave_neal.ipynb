{
  "nbformat": 4,
  "nbformat_minor": 0,
  "metadata": {
    "colab": {
      "name": "Dwave_neal",
      "provenance": [],
      "collapsed_sections": []
    },
    "kernelspec": {
      "display_name": "Python 3.7.7 64-bit ('xomibm': conda)",
      "name": "python_defaultSpec_1600164017344"
    },
    "language_info": {
      "codemirror_mode": {
        "name": "ipython",
        "version": 3
      },
      "file_extension": ".py",
      "mimetype": "text/x-python",
      "name": "python",
      "nbconvert_exporter": "python",
      "pygments_lexer": "ipython3",
      "version": "3.7.7-final"
    }
  },
  "cells": [
    {
      "cell_type": "markdown",
      "metadata": {
        "id": "07DM2eahOSwx"
      },
      "source": [
        "#### Problem statement\n",
        "We pose the Ising problem as the following optimization problem:\n",
        "$$\n",
        "\\min_{\\sigma \\in \\{ -1,+1 \\}^n} H(\\sigma) =\\min_{\\sigma \\in \\{ -1,+1 \\}^n} \\sum_{(ij) \\in E(G)} J_{ij}\\sigma_i\\sigma_j + \\sum_{i \\in V(G)}h_i\\sigma_i + c_I\n",
        "$$\n",
        "where we optimize over spins $\\sigma \\in \\{ -1,+1 \\}^n$, on a constrained graph $G(V,E)$, where the quadratic coefficients are $J_{ij}$ and the linear coefficients are $h_i$. We also include an arbitrary offset of the Ising model $c_I$."
      ]
    },
    {
      "cell_type": "markdown",
      "metadata": {
        "id": "jSKDaFC7OSwy"
      },
      "source": [
        "### Example\n",
        "Suppose we have an Ising model defined from\n",
        "$$\n",
        "J_{0, 3}=24.0,J_{0, 4}=24.0,J_{0, 5}=24.0,J_{0, 7}=24.0,J_{0, 8}=24.0,J_{0, 9}=24.0,J_{0, 10}=24.0,\\\\\n",
        "J_{1, 3}=24.0,J_{1, 5}=24.0,J_{1, 6}=24.0,J_{1, 8}=24.0,J_{1, 9}=24.0,J_{1, 10}=24.0,\\\\\n",
        "J_{2, 4}=24.0,J_{2, 6}=24.0,J_{2, 7}=24.0,J_{2, 8}=24.0,J_{2, 9}=24.0,J_{2, 10}=24.0,\\\\\n",
        "J_{3, 4}=24.0,J_{3, 5}=48.0,J_{3, 6}=24.0,J_{3, 7}=24.0,J_{3, 8}=48.0,J_{3, 9}=48.0,J_{3, 10}=48.0,\\\\\n",
        "J_{4, 5}=24.0,J_{4, 6}=24.0,J_{4, 7}=48.0,J_{4, 8}=48.0,J_{4, 9}=48.0,J_{4, 10}=48.0,\\\\\n",
        "J_{5, 6}=24.0,J_{5, 7}=24.0,J_{5, 8}=48.0,J_{5, 9}=48.0,J_{5, 10}=48.0,\\\\\n",
        "J_{6, 7}=24.0,J_{6, 8}=48.0,J_{6, 9}=48.0,J_{6, 10}=48.0,\\\\\n",
        "J_{7, 8}=48.0,J_{7, 9}=48.0,J_{7, 10}=48.0,\\\\\n",
        "J_{8, 9}=72.0,J_{8, 10}=72.0,\\\\\n",
        "J_{9, 10}=72.0 \\\\\n",
        "J = \\begin{bmatrix}\n",
        "0 & 0 & 0 & 24 & 24 & 24 & 24 & 24 & 24 & 24 & 24\\\\\n",
        "0 & 0 & 0 & 24 & 0 & 24 & 24 & 24 & 24 & 24 & 24\\\\\n",
        "0 & 0 & 0 & 0 & 24 & 0 & 24 & 24 & 24 & 24 & 24\\\\\n",
        "0 & 0 & 0 & 0 & 24 & 48 & 24 & 24 & 48 & 48 & 48\\\\\n",
        "0 & 0 & 0 & 0 & 0 & 24 & 24 & 48 & 48 & 48 & 48\\\\\n",
        "0 & 0 & 0 & 0 & 0 & 0 & 24 & 24 & 48 & 48 & 48\\\\\n",
        "0 & 0 & 0 & 0 & 0 & 0 & 0 & 24 & 48 & 48 & 48\\\\\n",
        "0 & 0 & 0 & 0 & 0 & 0 & 0 & 0 & 48 & 48 & 48\\\\\n",
        "0 & 0 & 0 & 0 & 0 & 0 & 0 & 0 & 0 & 72 & 72\\\\\n",
        "0 & 0 & 0 & 0 & 0 & 0 & 0 & 0 & 0 & 0 & 72\\\\\n",
        "\\end{bmatrix} \\\\\n",
        "h^\\top = [145.0,122.0,122.0,266.0,266.0,266.0,242.5,266.0,386.5,387.0,386.5] \\\\\n",
        "c_I = 1319.5\n",
        "$$\n",
        "Let's solve this problem"
      ]
    },
    {
      "cell_type": "code",
      "metadata": {
        "colab": {
          "base_uri": "https://localhost:8080/",
          "height": 557
        },
        "id": "0UUofxPPOSwz",
        "outputId": "cb91ca4a-c885-44f2-d7b2-9e52d07a5390"
      },
      "source": [
        "# If using this on Google collab, we need to install the packages\n",
        "try:\n",
        "  import google.colab\n",
        "  IN_COLAB = True\n",
        "except:\n",
        "  IN_COLAB = False\n",
        "\n",
        "# Let's start with Pyomo, dimod and neal\n",
        "if IN_COLAB:\n",
        "    !pip install -q pyomo\n",
        "    !pip install dimod\n",
        "    !pip install dwave-neal"
      ],
      "execution_count": 1,
      "outputs": [
        {
          "output_type": "stream",
          "name": "stdout",
          "text": [
            "\u001b[K     |████████████████████████████████| 9.2 MB 3.7 MB/s \n",
            "\u001b[K     |████████████████████████████████| 49 kB 4.9 MB/s \n",
            "\u001b[?25hCollecting dimod\n",
            "  Downloading dimod-0.10.10-cp37-cp37m-manylinux_2_12_x86_64.manylinux2010_x86_64.whl (12.2 MB)\n",
            "\u001b[K     |████████████████████████████████| 12.2 MB 3.8 MB/s \n",
            "\u001b[?25hRequirement already satisfied: numpy!=1.21.0,!=1.21.1,<2.0.0,>=1.17.3 in /usr/local/lib/python3.7/dist-packages (from dimod) (1.19.5)\n",
            "Collecting pyparsing<3.0.0,>=2.4.7\n",
            "  Downloading pyparsing-2.4.7-py2.py3-none-any.whl (67 kB)\n",
            "\u001b[K     |████████████████████████████████| 67 kB 5.5 MB/s \n",
            "\u001b[?25hInstalling collected packages: pyparsing, dimod\n",
            "  Attempting uninstall: pyparsing\n",
            "    Found existing installation: pyparsing 3.0.6\n",
            "    Uninstalling pyparsing-3.0.6:\n",
            "      Successfully uninstalled pyparsing-3.0.6\n",
            "\u001b[31mERROR: pip's dependency resolver does not currently take into account all the packages that are installed. This behaviour is the source of the following dependency conflicts.\n",
            "albumentations 0.1.12 requires imgaug<0.2.7,>=0.2.5, but you have imgaug 0.2.9 which is incompatible.\u001b[0m\n",
            "Successfully installed dimod-0.10.10 pyparsing-2.4.7\n"
          ]
        },
        {
          "output_type": "display_data",
          "data": {
            "application/vnd.colab-display-data+json": {
              "pip_warning": {
                "packages": [
                  "pyparsing"
                ]
              }
            }
          },
          "metadata": {}
        },
        {
          "output_type": "stream",
          "name": "stdout",
          "text": [
            "Collecting dwave-neal\n",
            "  Downloading dwave_neal-0.5.8-cp37-cp37m-manylinux_2_5_x86_64.manylinux1_x86_64.whl (397 kB)\n",
            "\u001b[K     |████████████████████████████████| 397 kB 4.0 MB/s \n",
            "\u001b[?25hRequirement already satisfied: dimod>=0.9.2 in /usr/local/lib/python3.7/dist-packages (from dwave-neal) (0.10.10)\n",
            "Requirement already satisfied: numpy!=1.21.0,!=1.21.1,<2.0.0,>=1.16.0 in /usr/local/lib/python3.7/dist-packages (from dwave-neal) (1.19.5)\n",
            "Requirement already satisfied: pyparsing<3.0.0,>=2.4.7 in /usr/local/lib/python3.7/dist-packages (from dimod>=0.9.2->dwave-neal) (2.4.7)\n",
            "Installing collected packages: dwave-neal\n",
            "Successfully installed dwave-neal-0.5.8\n"
          ]
        }
      ]
    },
    {
      "cell_type": "code",
      "metadata": {
        "id": "zuC1vMI-OSw2"
      },
      "source": [
        "# Import the Pyomo library, which can be installed via pip, conda or from Github https://github.com/Pyomo/pyomo\n",
        "import pyomo.environ as pyo\n",
        "# Import the Dwave packages dimod and neal\n",
        "import dimod\n",
        "import neal\n",
        "# Import Matplotlib to generate plots\n",
        "import matplotlib.pyplot as plt\n",
        "# Import numpy and scipy for certain numerical calculations below\n",
        "import numpy as np\n",
        "from scipy.special import gamma\n",
        "import math\n",
        "from collections import Counter\n",
        "import pandas as pd\n",
        "from itertools import chain\n",
        "import time"
      ],
      "execution_count": 2,
      "outputs": []
    },
    {
      "cell_type": "markdown",
      "metadata": {
        "id": "RacWiQmYs-W0"
      },
      "source": [
        "# SIMLATED ANNEALING Using Dwave neal"
      ]
    },
    {
      "cell_type": "markdown",
      "metadata": {
        "id": "nMyUH-0IOSxD"
      },
      "source": [
        "Let's define a larger model to see how this performnacce changes."
      ]
    },
    {
      "cell_type": "code",
      "metadata": {
        "id": "v54DGJfIOSxD",
        "colab": {
          "base_uri": "https://localhost:8080/"
        },
        "outputId": "254bfd90-c5d8-43cd-95db-2a350dd760a4"
      },
      "source": [
        "N = 100 # Number of variables\n",
        "J = np.random.rand(N,N)\n",
        "J = np.triu(J, 1) # We only consider upper triangular matrix ignoring the diagonal\n",
        "h = np.random.rand(N,1)\n",
        "J = J*10\n",
        "h = h*10\n",
        "print(J)\n",
        "dict_h = {}\n",
        "dict_J = {}\n",
        "'''\n",
        "h = {1: 1, 2: 2, 3: 3, 4: 4}\n",
        "\n",
        "J = {(1, 2): 12, (1, 3): 13, (1, 4): 14,\n",
        "...      (2, 3): 23, (2, 4): 24,\n",
        "...      (3, 4): 34}\n",
        "'''\n",
        "for i in enumerate(h):\n",
        "  dict_h[i[0]] = i[1]\n",
        "\n",
        "for ii in range(J.shape[0]):\n",
        "  for jj in range(J.shape[1]):\n",
        "    if J[ii][jj]:   \n",
        "      a_tup = (ii, jj)\n",
        "      dict_J[a_tup] = J[ii][jj]\n",
        "\n"
      ],
      "execution_count": 3,
      "outputs": [
        {
          "output_type": "stream",
          "name": "stdout",
          "text": [
            "[[0.         3.41651656 4.65883159 ... 5.36927458 2.18970936 0.08597251]\n",
            " [0.         0.         3.39413708 ... 2.93731698 7.43680798 6.83535406]\n",
            " [0.         0.         0.         ... 5.01048946 0.79970641 7.38510631]\n",
            " ...\n",
            " [0.         0.         0.         ... 0.         5.39919569 8.22693871]\n",
            " [0.         0.         0.         ... 0.         0.         0.03793085]\n",
            " [0.         0.         0.         ... 0.         0.         0.        ]]\n"
          ]
        }
      ]
    },
    {
      "cell_type": "code",
      "metadata": {
        "id": "EgH7NhA93Bxe"
      },
      "source": [
        "file1 = open(\"myfile.txt\", \"w\")\n",
        "file1.write(str(N) + ' ' + str(len(dict_J))+ '\\n')\n",
        "for i  in dict_J:\n",
        "  #print(i, dict_J[i])\n",
        "  file1.write(str(i[0]+1) + ' ' + str(i[1]+1) + ' -' + str(dict_J[i])+ '\\n')\n",
        "file1.close()\n",
        "\n",
        "file2 = open(\"myfile2.txt\", \"w\")\n",
        "for i  in h:\n",
        "  #print(i[0])\n",
        "  file2.write('-' + str(i[0]) +' ')\n",
        "file2.close()"
      ],
      "execution_count": 4,
      "outputs": []
    },
    {
      "cell_type": "code",
      "metadata": {
        "id": "93gunVynboLB"
      },
      "source": [
        "import numpy as np\n",
        "\n",
        "#h, J\n",
        "#simAnnSamples.lowest()"
      ],
      "execution_count": 5,
      "outputs": []
    },
    {
      "cell_type": "code",
      "metadata": {
        "id": "tkMiTYeUOSxD"
      },
      "source": [
        "model_random = dimod.BinaryQuadraticModel.from_ising(dict_h, dict_J, offset=0.0)"
      ],
      "execution_count": 6,
      "outputs": []
    },
    {
      "cell_type": "code",
      "metadata": {
        "id": "Ss266rXxOSxD",
        "colab": {
          "base_uri": "https://localhost:8080/"
        },
        "outputId": "96161475-4928-4901-e343-507ba3a5b2cb"
      },
      "source": [
        "simAnnSampler = neal.SimulatedAnnealingSampler()\n",
        "simAnnSamples = simAnnSampler.sample(model_random, num_reads=1000)\n",
        "energies = [datum.energy for datum in simAnnSamples.data(\n",
        "        ['energy'], sorted_by=None)]\n",
        "min_energy = energies[0]\n",
        "print(min_energy)"
      ],
      "execution_count": 7,
      "outputs": [
        {
          "output_type": "stream",
          "name": "stdout",
          "text": [
            "-2307.5112710760786\n"
          ]
        }
      ]
    }
  ]
}